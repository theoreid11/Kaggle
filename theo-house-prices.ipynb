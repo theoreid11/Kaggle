{
 "cells": [
  {
   "cell_type": "code",
   "execution_count": 1,
   "id": "139d7363",
   "metadata": {
    "_cell_guid": "b1076dfc-b9ad-4769-8c92-a6c4dae69d19",
    "_uuid": "8f2839f25d086af736a60e9eeb907d3b93b6e0e5",
    "execution": {
     "iopub.execute_input": "2023-07-29T14:15:06.451133Z",
     "iopub.status.busy": "2023-07-29T14:15:06.450719Z",
     "iopub.status.idle": "2023-07-29T14:15:06.464664Z",
     "shell.execute_reply": "2023-07-29T14:15:06.463555Z"
    },
    "papermill": {
     "duration": 0.026709,
     "end_time": "2023-07-29T14:15:06.467390",
     "exception": false,
     "start_time": "2023-07-29T14:15:06.440681",
     "status": "completed"
    },
    "tags": []
   },
   "outputs": [
    {
     "name": "stdout",
     "output_type": "stream",
     "text": [
      "/kaggle/input/house-prices-advanced-regression-techniques/sample_submission.csv\n",
      "/kaggle/input/house-prices-advanced-regression-techniques/data_description.txt\n",
      "/kaggle/input/house-prices-advanced-regression-techniques/train.csv\n",
      "/kaggle/input/house-prices-advanced-regression-techniques/test.csv\n"
     ]
    }
   ],
   "source": [
    "# This Python 3 environment comes with many helpful analytics libraries installed\n",
    "# It is defined by the kaggle/python Docker image: https://github.com/kaggle/docker-python\n",
    "# For example, here's several helpful packages to load\n",
    "\n",
    "import numpy as np # linear algebra\n",
    "import pandas as pd # data processing, CSV file I/O (e.g. pd.read_csv)\n",
    "\n",
    "# Input data files are available in the read-only \"../input/\" directory\n",
    "# For example, running this (by clicking run or pressing Shift+Enter) will list all files under the input directory\n",
    "\n",
    "import os\n",
    "for dirname, _, filenames in os.walk('/kaggle/input'):\n",
    "    for filename in filenames:\n",
    "        print(os.path.join(dirname, filename))\n",
    "\n",
    "# You can write up to 20GB to the current directory (/kaggle/working/) that gets preserved as output when you create a version using \"Save & Run All\" \n",
    "# You can also write temporary files to /kaggle/temp/, but they won't be saved outside of the current session"
   ]
  },
  {
   "cell_type": "code",
   "execution_count": 2,
   "id": "800e41f2",
   "metadata": {
    "execution": {
     "iopub.execute_input": "2023-07-29T14:15:06.482494Z",
     "iopub.status.busy": "2023-07-29T14:15:06.481742Z",
     "iopub.status.idle": "2023-07-29T14:15:06.486290Z",
     "shell.execute_reply": "2023-07-29T14:15:06.485539Z"
    },
    "papermill": {
     "duration": 0.014609,
     "end_time": "2023-07-29T14:15:06.488589",
     "exception": false,
     "start_time": "2023-07-29T14:15:06.473980",
     "status": "completed"
    },
    "tags": []
   },
   "outputs": [],
   "source": [
    "#pip install xgboost"
   ]
  },
  {
   "cell_type": "code",
   "execution_count": 3,
   "id": "b0feecab",
   "metadata": {
    "execution": {
     "iopub.execute_input": "2023-07-29T14:15:06.502647Z",
     "iopub.status.busy": "2023-07-29T14:15:06.501890Z",
     "iopub.status.idle": "2023-07-29T14:15:08.182772Z",
     "shell.execute_reply": "2023-07-29T14:15:08.181254Z"
    },
    "papermill": {
     "duration": 1.691084,
     "end_time": "2023-07-29T14:15:08.185755",
     "exception": false,
     "start_time": "2023-07-29T14:15:06.494671",
     "status": "completed"
    },
    "tags": []
   },
   "outputs": [
    {
     "name": "stderr",
     "output_type": "stream",
     "text": [
      "/opt/conda/lib/python3.10/site-packages/scipy/__init__.py:146: UserWarning: A NumPy version >=1.16.5 and <1.23.0 is required for this version of SciPy (detected version 1.23.5\n",
      "  warnings.warn(f\"A NumPy version >={np_minversion} and <{np_maxversion}\"\n"
     ]
    }
   ],
   "source": [
    "import xgboost as xgb\n",
    "from sklearn.metrics import mean_squared_error\n",
    "from sklearn.model_selection import GridSearchCV\n"
   ]
  },
  {
   "cell_type": "code",
   "execution_count": 4,
   "id": "6a0c0aab",
   "metadata": {
    "execution": {
     "iopub.execute_input": "2023-07-29T14:15:08.200140Z",
     "iopub.status.busy": "2023-07-29T14:15:08.199510Z",
     "iopub.status.idle": "2023-07-29T14:15:19.783860Z",
     "shell.execute_reply": "2023-07-29T14:15:19.782672Z"
    },
    "papermill": {
     "duration": 11.595485,
     "end_time": "2023-07-29T14:15:19.787405",
     "exception": false,
     "start_time": "2023-07-29T14:15:08.191920",
     "status": "completed"
    },
    "tags": []
   },
   "outputs": [
    {
     "name": "stderr",
     "output_type": "stream",
     "text": [
      "/opt/conda/lib/python3.10/site-packages/tensorflow_io/python/ops/__init__.py:98: UserWarning: unable to load libtensorflow_io_plugins.so: unable to open file: libtensorflow_io_plugins.so, from paths: ['/opt/conda/lib/python3.10/site-packages/tensorflow_io/python/ops/libtensorflow_io_plugins.so']\n",
      "caused by: ['/opt/conda/lib/python3.10/site-packages/tensorflow_io/python/ops/libtensorflow_io_plugins.so: undefined symbol: _ZN3tsl6StatusC1EN10tensorflow5error4CodeESt17basic_string_viewIcSt11char_traitsIcEENS_14SourceLocationE']\n",
      "  warnings.warn(f\"unable to load libtensorflow_io_plugins.so: {e}\")\n",
      "/opt/conda/lib/python3.10/site-packages/tensorflow_io/python/ops/__init__.py:104: UserWarning: file system plugins are not loaded: unable to open file: libtensorflow_io.so, from paths: ['/opt/conda/lib/python3.10/site-packages/tensorflow_io/python/ops/libtensorflow_io.so']\n",
      "caused by: ['/opt/conda/lib/python3.10/site-packages/tensorflow_io/python/ops/libtensorflow_io.so: undefined symbol: _ZTVN10tensorflow13GcsFileSystemE']\n",
      "  warnings.warn(f\"file system plugins are not loaded: {e}\")\n"
     ]
    }
   ],
   "source": [
    "import tensorflow as tf\n",
    "\n",
    "from tensorflow.keras.models import Sequential\n",
    "from tensorflow.keras.layers import Dense, Activation, Dropout\n",
    "from tensorflow.keras.optimizers import Adam\n",
    "from tensorflow.keras.losses import SparseCategoricalCrossentropy,BinaryCrossentropy\n",
    "from tensorflow.keras.metrics import Accuracy\n",
    "from tensorflow.keras.callbacks import EarlyStopping\n",
    "\n",
    "from sklearn.model_selection import train_test_split\n",
    "from sklearn.preprocessing import LabelEncoder\n",
    "from sklearn import metrics,preprocessing\n",
    "from sklearn.compose import ColumnTransformer\n",
    "from sklearn.preprocessing import OneHotEncoder, StandardScaler, MinMaxScaler\n",
    "from sklearn.impute import SimpleImputer\n",
    "import matplotlib.pyplot as plt\n",
    "import seaborn as sns # data visualization"
   ]
  },
  {
   "cell_type": "code",
   "execution_count": 5,
   "id": "26e50f5d",
   "metadata": {
    "execution": {
     "iopub.execute_input": "2023-07-29T14:15:19.804714Z",
     "iopub.status.busy": "2023-07-29T14:15:19.803921Z",
     "iopub.status.idle": "2023-07-29T14:15:19.881929Z",
     "shell.execute_reply": "2023-07-29T14:15:19.880512Z"
    },
    "papermill": {
     "duration": 0.091301,
     "end_time": "2023-07-29T14:15:19.885128",
     "exception": false,
     "start_time": "2023-07-29T14:15:19.793827",
     "status": "completed"
    },
    "tags": []
   },
   "outputs": [],
   "source": [
    "train_df = pd.read_csv('//kaggle//input//house-prices-advanced-regression-techniques//train.csv')\n",
    "test_df = pd.read_csv('//kaggle//input//house-prices-advanced-regression-techniques//test.csv')"
   ]
  },
  {
   "cell_type": "code",
   "execution_count": 6,
   "id": "1d2293a5",
   "metadata": {
    "execution": {
     "iopub.execute_input": "2023-07-29T14:15:19.899786Z",
     "iopub.status.busy": "2023-07-29T14:15:19.899299Z",
     "iopub.status.idle": "2023-07-29T14:15:19.945212Z",
     "shell.execute_reply": "2023-07-29T14:15:19.942898Z"
    },
    "papermill": {
     "duration": 0.057412,
     "end_time": "2023-07-29T14:15:19.948779",
     "exception": false,
     "start_time": "2023-07-29T14:15:19.891367",
     "status": "completed"
    },
    "tags": []
   },
   "outputs": [
    {
     "name": "stdout",
     "output_type": "stream",
     "text": [
      "        Id  MSSubClass MSZoning  LotFrontage  LotArea Street Alley LotShape  \\\n",
      "0        1          60       RL         65.0     8450   Pave   NaN      Reg   \n",
      "1        2          20       RL         80.0     9600   Pave   NaN      Reg   \n",
      "2        3          60       RL         68.0    11250   Pave   NaN      IR1   \n",
      "3        4          70       RL         60.0     9550   Pave   NaN      IR1   \n",
      "4        5          60       RL         84.0    14260   Pave   NaN      IR1   \n",
      "...    ...         ...      ...          ...      ...    ...   ...      ...   \n",
      "1455  1456          60       RL         62.0     7917   Pave   NaN      Reg   \n",
      "1456  1457          20       RL         85.0    13175   Pave   NaN      Reg   \n",
      "1457  1458          70       RL         66.0     9042   Pave   NaN      Reg   \n",
      "1458  1459          20       RL         68.0     9717   Pave   NaN      Reg   \n",
      "1459  1460          20       RL         75.0     9937   Pave   NaN      Reg   \n",
      "\n",
      "     LandContour Utilities  ... PoolArea PoolQC  Fence MiscFeature MiscVal  \\\n",
      "0            Lvl    AllPub  ...        0    NaN    NaN         NaN       0   \n",
      "1            Lvl    AllPub  ...        0    NaN    NaN         NaN       0   \n",
      "2            Lvl    AllPub  ...        0    NaN    NaN         NaN       0   \n",
      "3            Lvl    AllPub  ...        0    NaN    NaN         NaN       0   \n",
      "4            Lvl    AllPub  ...        0    NaN    NaN         NaN       0   \n",
      "...          ...       ...  ...      ...    ...    ...         ...     ...   \n",
      "1455         Lvl    AllPub  ...        0    NaN    NaN         NaN       0   \n",
      "1456         Lvl    AllPub  ...        0    NaN  MnPrv         NaN       0   \n",
      "1457         Lvl    AllPub  ...        0    NaN  GdPrv        Shed    2500   \n",
      "1458         Lvl    AllPub  ...        0    NaN    NaN         NaN       0   \n",
      "1459         Lvl    AllPub  ...        0    NaN    NaN         NaN       0   \n",
      "\n",
      "     MoSold YrSold  SaleType  SaleCondition  SalePrice  \n",
      "0         2   2008        WD         Normal     208500  \n",
      "1         5   2007        WD         Normal     181500  \n",
      "2         9   2008        WD         Normal     223500  \n",
      "3         2   2006        WD        Abnorml     140000  \n",
      "4        12   2008        WD         Normal     250000  \n",
      "...     ...    ...       ...            ...        ...  \n",
      "1455      8   2007        WD         Normal     175000  \n",
      "1456      2   2010        WD         Normal     210000  \n",
      "1457      5   2010        WD         Normal     266500  \n",
      "1458      4   2010        WD         Normal     142125  \n",
      "1459      6   2008        WD         Normal     147500  \n",
      "\n",
      "[1460 rows x 81 columns]\n",
      "        Id  MSSubClass MSZoning  LotFrontage  LotArea Street Alley LotShape  \\\n",
      "0     1461          20       RH         80.0    11622   Pave   NaN      Reg   \n",
      "1     1462          20       RL         81.0    14267   Pave   NaN      IR1   \n",
      "2     1463          60       RL         74.0    13830   Pave   NaN      IR1   \n",
      "3     1464          60       RL         78.0     9978   Pave   NaN      IR1   \n",
      "4     1465         120       RL         43.0     5005   Pave   NaN      IR1   \n",
      "...    ...         ...      ...          ...      ...    ...   ...      ...   \n",
      "1454  2915         160       RM         21.0     1936   Pave   NaN      Reg   \n",
      "1455  2916         160       RM         21.0     1894   Pave   NaN      Reg   \n",
      "1456  2917          20       RL        160.0    20000   Pave   NaN      Reg   \n",
      "1457  2918          85       RL         62.0    10441   Pave   NaN      Reg   \n",
      "1458  2919          60       RL         74.0     9627   Pave   NaN      Reg   \n",
      "\n",
      "     LandContour Utilities  ... ScreenPorch PoolArea PoolQC  Fence  \\\n",
      "0            Lvl    AllPub  ...         120        0    NaN  MnPrv   \n",
      "1            Lvl    AllPub  ...           0        0    NaN    NaN   \n",
      "2            Lvl    AllPub  ...           0        0    NaN  MnPrv   \n",
      "3            Lvl    AllPub  ...           0        0    NaN    NaN   \n",
      "4            HLS    AllPub  ...         144        0    NaN    NaN   \n",
      "...          ...       ...  ...         ...      ...    ...    ...   \n",
      "1454         Lvl    AllPub  ...           0        0    NaN    NaN   \n",
      "1455         Lvl    AllPub  ...           0        0    NaN    NaN   \n",
      "1456         Lvl    AllPub  ...           0        0    NaN    NaN   \n",
      "1457         Lvl    AllPub  ...           0        0    NaN  MnPrv   \n",
      "1458         Lvl    AllPub  ...           0        0    NaN    NaN   \n",
      "\n",
      "     MiscFeature MiscVal MoSold  YrSold  SaleType  SaleCondition  \n",
      "0            NaN       0      6    2010        WD         Normal  \n",
      "1           Gar2   12500      6    2010        WD         Normal  \n",
      "2            NaN       0      3    2010        WD         Normal  \n",
      "3            NaN       0      6    2010        WD         Normal  \n",
      "4            NaN       0      1    2010        WD         Normal  \n",
      "...          ...     ...    ...     ...       ...            ...  \n",
      "1454         NaN       0      6    2006        WD         Normal  \n",
      "1455         NaN       0      4    2006        WD        Abnorml  \n",
      "1456         NaN       0      9    2006        WD        Abnorml  \n",
      "1457        Shed     700      7    2006        WD         Normal  \n",
      "1458         NaN       0     11    2006        WD         Normal  \n",
      "\n",
      "[1459 rows x 80 columns]\n"
     ]
    }
   ],
   "source": [
    "print(train_df)\n",
    "print(test_df)"
   ]
  },
  {
   "cell_type": "code",
   "execution_count": 7,
   "id": "5dbcfe04",
   "metadata": {
    "execution": {
     "iopub.execute_input": "2023-07-29T14:15:19.965971Z",
     "iopub.status.busy": "2023-07-29T14:15:19.964611Z",
     "iopub.status.idle": "2023-07-29T14:15:19.972551Z",
     "shell.execute_reply": "2023-07-29T14:15:19.971246Z"
    },
    "papermill": {
     "duration": 0.019229,
     "end_time": "2023-07-29T14:15:19.974995",
     "exception": false,
     "start_time": "2023-07-29T14:15:19.955766",
     "status": "completed"
    },
    "tags": []
   },
   "outputs": [
    {
     "name": "stdout",
     "output_type": "stream",
     "text": [
      "0\n"
     ]
    }
   ],
   "source": [
    "print(train_df['SalePrice'].isna().sum()) #check all entries have a sale price"
   ]
  },
  {
   "cell_type": "code",
   "execution_count": 8,
   "id": "152ff31a",
   "metadata": {
    "_kg_hide-output": true,
    "execution": {
     "iopub.execute_input": "2023-07-29T14:15:19.989803Z",
     "iopub.status.busy": "2023-07-29T14:15:19.989330Z",
     "iopub.status.idle": "2023-07-29T14:15:19.998701Z",
     "shell.execute_reply": "2023-07-29T14:15:19.997660Z"
    },
    "papermill": {
     "duration": 0.020151,
     "end_time": "2023-07-29T14:15:20.001396",
     "exception": false,
     "start_time": "2023-07-29T14:15:19.981245",
     "status": "completed"
    },
    "tags": []
   },
   "outputs": [],
   "source": [
    "X = train_df.drop('SalePrice',axis=1) #X is all features\n",
    "y = train_df['SalePrice']"
   ]
  },
  {
   "cell_type": "code",
   "execution_count": 9,
   "id": "e2137fe9",
   "metadata": {
    "execution": {
     "iopub.execute_input": "2023-07-29T14:15:20.016997Z",
     "iopub.status.busy": "2023-07-29T14:15:20.016574Z",
     "iopub.status.idle": "2023-07-29T14:15:20.022721Z",
     "shell.execute_reply": "2023-07-29T14:15:20.021111Z"
    },
    "papermill": {
     "duration": 0.016391,
     "end_time": "2023-07-29T14:15:20.025051",
     "exception": false,
     "start_time": "2023-07-29T14:15:20.008660",
     "status": "completed"
    },
    "tags": []
   },
   "outputs": [
    {
     "name": "stdout",
     "output_type": "stream",
     "text": [
      "(1460, 80)\n",
      "(1459, 80)\n"
     ]
    }
   ],
   "source": [
    "print(X.shape)\n",
    "print(test_df.shape)"
   ]
  },
  {
   "cell_type": "code",
   "execution_count": 10,
   "id": "0b9cb98b",
   "metadata": {
    "execution": {
     "iopub.execute_input": "2023-07-29T14:15:20.040666Z",
     "iopub.status.busy": "2023-07-29T14:15:20.039793Z",
     "iopub.status.idle": "2023-07-29T14:15:20.118934Z",
     "shell.execute_reply": "2023-07-29T14:15:20.117377Z"
    },
    "papermill": {
     "duration": 0.090086,
     "end_time": "2023-07-29T14:15:20.121793",
     "exception": false,
     "start_time": "2023-07-29T14:15:20.031707",
     "status": "completed"
    },
    "tags": []
   },
   "outputs": [
    {
     "name": "stdout",
     "output_type": "stream",
     "text": [
      "(1460, 289)\n",
      "(1459, 289)\n"
     ]
    }
   ],
   "source": [
    "#combine test and train dfs before encoding so they have same # features\n",
    "data = pd.concat([X,test_df])\n",
    "\n",
    "encoded = pd.get_dummies(data)\n",
    "X_encoded = encoded[:len(X)]\n",
    "X_test_encoded = encoded[len(X):]\n",
    "print(X_encoded.shape)\n",
    "print(X_test_encoded.shape)\n"
   ]
  },
  {
   "cell_type": "code",
   "execution_count": 11,
   "id": "7c92c42a",
   "metadata": {
    "execution": {
     "iopub.execute_input": "2023-07-29T14:15:20.137057Z",
     "iopub.status.busy": "2023-07-29T14:15:20.136608Z",
     "iopub.status.idle": "2023-07-29T14:15:20.154556Z",
     "shell.execute_reply": "2023-07-29T14:15:20.152789Z"
    },
    "papermill": {
     "duration": 0.029947,
     "end_time": "2023-07-29T14:15:20.158307",
     "exception": false,
     "start_time": "2023-07-29T14:15:20.128360",
     "status": "completed"
    },
    "tags": []
   },
   "outputs": [
    {
     "name": "stdout",
     "output_type": "stream",
     "text": [
      "        Id  MSSubClass  LotFrontage  LotArea  OverallQual  OverallCond  \\\n",
      "0        1          60         65.0     8450            7            5   \n",
      "1        2          20         80.0     9600            6            8   \n",
      "2        3          60         68.0    11250            7            5   \n",
      "3        4          70         60.0     9550            7            5   \n",
      "4        5          60         84.0    14260            8            5   \n",
      "...    ...         ...          ...      ...          ...          ...   \n",
      "1455  1456          60         62.0     7917            6            5   \n",
      "1456  1457          20         85.0    13175            6            6   \n",
      "1457  1458          70         66.0     9042            7            9   \n",
      "1458  1459          20         68.0     9717            5            6   \n",
      "1459  1460          20         75.0     9937            5            6   \n",
      "\n",
      "      YearBuilt  YearRemodAdd  MasVnrArea  BsmtFinSF1  ...  SaleType_ConLw  \\\n",
      "0          2003          2003       196.0       706.0  ...               0   \n",
      "1          1976          1976         0.0       978.0  ...               0   \n",
      "2          2001          2002       162.0       486.0  ...               0   \n",
      "3          1915          1970         0.0       216.0  ...               0   \n",
      "4          2000          2000       350.0       655.0  ...               0   \n",
      "...         ...           ...         ...         ...  ...             ...   \n",
      "1455       1999          2000         0.0         0.0  ...               0   \n",
      "1456       1978          1988       119.0       790.0  ...               0   \n",
      "1457       1941          2006         0.0       275.0  ...               0   \n",
      "1458       1950          1996         0.0        49.0  ...               0   \n",
      "1459       1965          1965         0.0       830.0  ...               0   \n",
      "\n",
      "      SaleType_New  SaleType_Oth  SaleType_WD  SaleCondition_Abnorml  \\\n",
      "0                0             0            1                      0   \n",
      "1                0             0            1                      0   \n",
      "2                0             0            1                      0   \n",
      "3                0             0            1                      1   \n",
      "4                0             0            1                      0   \n",
      "...            ...           ...          ...                    ...   \n",
      "1455             0             0            1                      0   \n",
      "1456             0             0            1                      0   \n",
      "1457             0             0            1                      0   \n",
      "1458             0             0            1                      0   \n",
      "1459             0             0            1                      0   \n",
      "\n",
      "      SaleCondition_AdjLand  SaleCondition_Alloca  SaleCondition_Family  \\\n",
      "0                         0                     0                     0   \n",
      "1                         0                     0                     0   \n",
      "2                         0                     0                     0   \n",
      "3                         0                     0                     0   \n",
      "4                         0                     0                     0   \n",
      "...                     ...                   ...                   ...   \n",
      "1455                      0                     0                     0   \n",
      "1456                      0                     0                     0   \n",
      "1457                      0                     0                     0   \n",
      "1458                      0                     0                     0   \n",
      "1459                      0                     0                     0   \n",
      "\n",
      "      SaleCondition_Normal  SaleCondition_Partial  \n",
      "0                        1                      0  \n",
      "1                        1                      0  \n",
      "2                        1                      0  \n",
      "3                        0                      0  \n",
      "4                        1                      0  \n",
      "...                    ...                    ...  \n",
      "1455                     1                      0  \n",
      "1456                     1                      0  \n",
      "1457                     1                      0  \n",
      "1458                     1                      0  \n",
      "1459                     1                      0  \n",
      "\n",
      "[1460 rows x 289 columns]\n"
     ]
    }
   ],
   "source": [
    "print(X_encoded)"
   ]
  },
  {
   "cell_type": "code",
   "execution_count": 12,
   "id": "d0d76d9f",
   "metadata": {
    "execution": {
     "iopub.execute_input": "2023-07-29T14:15:20.174409Z",
     "iopub.status.busy": "2023-07-29T14:15:20.173702Z",
     "iopub.status.idle": "2023-07-29T14:15:20.179030Z",
     "shell.execute_reply": "2023-07-29T14:15:20.177572Z"
    },
    "papermill": {
     "duration": 0.016879,
     "end_time": "2023-07-29T14:15:20.181975",
     "exception": false,
     "start_time": "2023-07-29T14:15:20.165096",
     "status": "completed"
    },
    "tags": []
   },
   "outputs": [],
   "source": [
    "param_grid = {\n",
    "    'learning_rate': [0.1, 0.01, 0.001],\n",
    "    'max_depth': [3, 5, 7],\n",
    "    'n_estimators': [100, 200, 300],\n",
    "}"
   ]
  },
  {
   "cell_type": "code",
   "execution_count": 13,
   "id": "eb3771ac",
   "metadata": {
    "execution": {
     "iopub.execute_input": "2023-07-29T14:15:20.198959Z",
     "iopub.status.busy": "2023-07-29T14:15:20.197909Z",
     "iopub.status.idle": "2023-07-29T14:15:20.202843Z",
     "shell.execute_reply": "2023-07-29T14:15:20.201850Z"
    },
    "papermill": {
     "duration": 0.015611,
     "end_time": "2023-07-29T14:15:20.205351",
     "exception": false,
     "start_time": "2023-07-29T14:15:20.189740",
     "status": "completed"
    },
    "tags": []
   },
   "outputs": [],
   "source": [
    "model = xgb.XGBRegressor(\n",
    "    #set params\n",
    "    objective= 'reg:squarederror',\n",
    "    eval_metric='rmse',\n",
    ")"
   ]
  },
  {
   "cell_type": "code",
   "execution_count": 14,
   "id": "305cf1bd",
   "metadata": {
    "execution": {
     "iopub.execute_input": "2023-07-29T14:15:20.221532Z",
     "iopub.status.busy": "2023-07-29T14:15:20.220759Z",
     "iopub.status.idle": "2023-07-29T14:15:20.225967Z",
     "shell.execute_reply": "2023-07-29T14:15:20.224663Z"
    },
    "papermill": {
     "duration": 0.015676,
     "end_time": "2023-07-29T14:15:20.228211",
     "exception": false,
     "start_time": "2023-07-29T14:15:20.212535",
     "status": "completed"
    },
    "tags": []
   },
   "outputs": [],
   "source": [
    "grid_search = GridSearchCV(estimator= model, param_grid=param_grid, scoring='neg_mean_squared_error', cv=5)\n"
   ]
  },
  {
   "cell_type": "code",
   "execution_count": 15,
   "id": "1acb314e",
   "metadata": {
    "execution": {
     "iopub.execute_input": "2023-07-29T14:15:20.243505Z",
     "iopub.status.busy": "2023-07-29T14:15:20.242808Z",
     "iopub.status.idle": "2023-07-29T14:19:25.684393Z",
     "shell.execute_reply": "2023-07-29T14:19:25.683564Z"
    },
    "papermill": {
     "duration": 245.460995,
     "end_time": "2023-07-29T14:19:25.695626",
     "exception": false,
     "start_time": "2023-07-29T14:15:20.234631",
     "status": "completed"
    },
    "tags": []
   },
   "outputs": [
    {
     "data": {
      "text/html": [
       "<style>#sk-container-id-1 {color: black;background-color: white;}#sk-container-id-1 pre{padding: 0;}#sk-container-id-1 div.sk-toggleable {background-color: white;}#sk-container-id-1 label.sk-toggleable__label {cursor: pointer;display: block;width: 100%;margin-bottom: 0;padding: 0.3em;box-sizing: border-box;text-align: center;}#sk-container-id-1 label.sk-toggleable__label-arrow:before {content: \"▸\";float: left;margin-right: 0.25em;color: #696969;}#sk-container-id-1 label.sk-toggleable__label-arrow:hover:before {color: black;}#sk-container-id-1 div.sk-estimator:hover label.sk-toggleable__label-arrow:before {color: black;}#sk-container-id-1 div.sk-toggleable__content {max-height: 0;max-width: 0;overflow: hidden;text-align: left;background-color: #f0f8ff;}#sk-container-id-1 div.sk-toggleable__content pre {margin: 0.2em;color: black;border-radius: 0.25em;background-color: #f0f8ff;}#sk-container-id-1 input.sk-toggleable__control:checked~div.sk-toggleable__content {max-height: 200px;max-width: 100%;overflow: auto;}#sk-container-id-1 input.sk-toggleable__control:checked~label.sk-toggleable__label-arrow:before {content: \"▾\";}#sk-container-id-1 div.sk-estimator input.sk-toggleable__control:checked~label.sk-toggleable__label {background-color: #d4ebff;}#sk-container-id-1 div.sk-label input.sk-toggleable__control:checked~label.sk-toggleable__label {background-color: #d4ebff;}#sk-container-id-1 input.sk-hidden--visually {border: 0;clip: rect(1px 1px 1px 1px);clip: rect(1px, 1px, 1px, 1px);height: 1px;margin: -1px;overflow: hidden;padding: 0;position: absolute;width: 1px;}#sk-container-id-1 div.sk-estimator {font-family: monospace;background-color: #f0f8ff;border: 1px dotted black;border-radius: 0.25em;box-sizing: border-box;margin-bottom: 0.5em;}#sk-container-id-1 div.sk-estimator:hover {background-color: #d4ebff;}#sk-container-id-1 div.sk-parallel-item::after {content: \"\";width: 100%;border-bottom: 1px solid gray;flex-grow: 1;}#sk-container-id-1 div.sk-label:hover label.sk-toggleable__label {background-color: #d4ebff;}#sk-container-id-1 div.sk-serial::before {content: \"\";position: absolute;border-left: 1px solid gray;box-sizing: border-box;top: 0;bottom: 0;left: 50%;z-index: 0;}#sk-container-id-1 div.sk-serial {display: flex;flex-direction: column;align-items: center;background-color: white;padding-right: 0.2em;padding-left: 0.2em;position: relative;}#sk-container-id-1 div.sk-item {position: relative;z-index: 1;}#sk-container-id-1 div.sk-parallel {display: flex;align-items: stretch;justify-content: center;background-color: white;position: relative;}#sk-container-id-1 div.sk-item::before, #sk-container-id-1 div.sk-parallel-item::before {content: \"\";position: absolute;border-left: 1px solid gray;box-sizing: border-box;top: 0;bottom: 0;left: 50%;z-index: -1;}#sk-container-id-1 div.sk-parallel-item {display: flex;flex-direction: column;z-index: 1;position: relative;background-color: white;}#sk-container-id-1 div.sk-parallel-item:first-child::after {align-self: flex-end;width: 50%;}#sk-container-id-1 div.sk-parallel-item:last-child::after {align-self: flex-start;width: 50%;}#sk-container-id-1 div.sk-parallel-item:only-child::after {width: 0;}#sk-container-id-1 div.sk-dashed-wrapped {border: 1px dashed gray;margin: 0 0.4em 0.5em 0.4em;box-sizing: border-box;padding-bottom: 0.4em;background-color: white;}#sk-container-id-1 div.sk-label label {font-family: monospace;font-weight: bold;display: inline-block;line-height: 1.2em;}#sk-container-id-1 div.sk-label-container {text-align: center;}#sk-container-id-1 div.sk-container {/* jupyter's `normalize.less` sets `[hidden] { display: none; }` but bootstrap.min.css set `[hidden] { display: none !important; }` so we also need the `!important` here to be able to override the default hidden behavior on the sphinx rendered scikit-learn.org. See: https://github.com/scikit-learn/scikit-learn/issues/21755 */display: inline-block !important;position: relative;}#sk-container-id-1 div.sk-text-repr-fallback {display: none;}</style><div id=\"sk-container-id-1\" class=\"sk-top-container\"><div class=\"sk-text-repr-fallback\"><pre>GridSearchCV(cv=5,\n",
       "             estimator=XGBRegressor(base_score=None, booster=None,\n",
       "                                    callbacks=None, colsample_bylevel=None,\n",
       "                                    colsample_bynode=None,\n",
       "                                    colsample_bytree=None,\n",
       "                                    early_stopping_rounds=None,\n",
       "                                    enable_categorical=False,\n",
       "                                    eval_metric=&#x27;rmse&#x27;, feature_types=None,\n",
       "                                    gamma=None, gpu_id=None, grow_policy=None,\n",
       "                                    importance_type=None,\n",
       "                                    interaction_constraints=None,\n",
       "                                    learning_rate=None...\n",
       "                                    max_cat_to_onehot=None, max_delta_step=None,\n",
       "                                    max_depth=None, max_leaves=None,\n",
       "                                    min_child_weight=None, missing=nan,\n",
       "                                    monotone_constraints=None, n_estimators=100,\n",
       "                                    n_jobs=None, num_parallel_tree=None,\n",
       "                                    predictor=None, random_state=None, ...),\n",
       "             param_grid={&#x27;learning_rate&#x27;: [0.1, 0.01, 0.001],\n",
       "                         &#x27;max_depth&#x27;: [3, 5, 7],\n",
       "                         &#x27;n_estimators&#x27;: [100, 200, 300]},\n",
       "             scoring=&#x27;neg_mean_squared_error&#x27;)</pre><b>In a Jupyter environment, please rerun this cell to show the HTML representation or trust the notebook. <br />On GitHub, the HTML representation is unable to render, please try loading this page with nbviewer.org.</b></div><div class=\"sk-container\" hidden><div class=\"sk-item sk-dashed-wrapped\"><div class=\"sk-label-container\"><div class=\"sk-label sk-toggleable\"><input class=\"sk-toggleable__control sk-hidden--visually\" id=\"sk-estimator-id-1\" type=\"checkbox\" ><label for=\"sk-estimator-id-1\" class=\"sk-toggleable__label sk-toggleable__label-arrow\">GridSearchCV</label><div class=\"sk-toggleable__content\"><pre>GridSearchCV(cv=5,\n",
       "             estimator=XGBRegressor(base_score=None, booster=None,\n",
       "                                    callbacks=None, colsample_bylevel=None,\n",
       "                                    colsample_bynode=None,\n",
       "                                    colsample_bytree=None,\n",
       "                                    early_stopping_rounds=None,\n",
       "                                    enable_categorical=False,\n",
       "                                    eval_metric=&#x27;rmse&#x27;, feature_types=None,\n",
       "                                    gamma=None, gpu_id=None, grow_policy=None,\n",
       "                                    importance_type=None,\n",
       "                                    interaction_constraints=None,\n",
       "                                    learning_rate=None...\n",
       "                                    max_cat_to_onehot=None, max_delta_step=None,\n",
       "                                    max_depth=None, max_leaves=None,\n",
       "                                    min_child_weight=None, missing=nan,\n",
       "                                    monotone_constraints=None, n_estimators=100,\n",
       "                                    n_jobs=None, num_parallel_tree=None,\n",
       "                                    predictor=None, random_state=None, ...),\n",
       "             param_grid={&#x27;learning_rate&#x27;: [0.1, 0.01, 0.001],\n",
       "                         &#x27;max_depth&#x27;: [3, 5, 7],\n",
       "                         &#x27;n_estimators&#x27;: [100, 200, 300]},\n",
       "             scoring=&#x27;neg_mean_squared_error&#x27;)</pre></div></div></div><div class=\"sk-parallel\"><div class=\"sk-parallel-item\"><div class=\"sk-item\"><div class=\"sk-label-container\"><div class=\"sk-label sk-toggleable\"><input class=\"sk-toggleable__control sk-hidden--visually\" id=\"sk-estimator-id-2\" type=\"checkbox\" ><label for=\"sk-estimator-id-2\" class=\"sk-toggleable__label sk-toggleable__label-arrow\">estimator: XGBRegressor</label><div class=\"sk-toggleable__content\"><pre>XGBRegressor(base_score=None, booster=None, callbacks=None,\n",
       "             colsample_bylevel=None, colsample_bynode=None,\n",
       "             colsample_bytree=None, early_stopping_rounds=None,\n",
       "             enable_categorical=False, eval_metric=&#x27;rmse&#x27;, feature_types=None,\n",
       "             gamma=None, gpu_id=None, grow_policy=None, importance_type=None,\n",
       "             interaction_constraints=None, learning_rate=None, max_bin=None,\n",
       "             max_cat_threshold=None, max_cat_to_onehot=None,\n",
       "             max_delta_step=None, max_depth=None, max_leaves=None,\n",
       "             min_child_weight=None, missing=nan, monotone_constraints=None,\n",
       "             n_estimators=100, n_jobs=None, num_parallel_tree=None,\n",
       "             predictor=None, random_state=None, ...)</pre></div></div></div><div class=\"sk-serial\"><div class=\"sk-item\"><div class=\"sk-estimator sk-toggleable\"><input class=\"sk-toggleable__control sk-hidden--visually\" id=\"sk-estimator-id-3\" type=\"checkbox\" ><label for=\"sk-estimator-id-3\" class=\"sk-toggleable__label sk-toggleable__label-arrow\">XGBRegressor</label><div class=\"sk-toggleable__content\"><pre>XGBRegressor(base_score=None, booster=None, callbacks=None,\n",
       "             colsample_bylevel=None, colsample_bynode=None,\n",
       "             colsample_bytree=None, early_stopping_rounds=None,\n",
       "             enable_categorical=False, eval_metric=&#x27;rmse&#x27;, feature_types=None,\n",
       "             gamma=None, gpu_id=None, grow_policy=None, importance_type=None,\n",
       "             interaction_constraints=None, learning_rate=None, max_bin=None,\n",
       "             max_cat_threshold=None, max_cat_to_onehot=None,\n",
       "             max_delta_step=None, max_depth=None, max_leaves=None,\n",
       "             min_child_weight=None, missing=nan, monotone_constraints=None,\n",
       "             n_estimators=100, n_jobs=None, num_parallel_tree=None,\n",
       "             predictor=None, random_state=None, ...)</pre></div></div></div></div></div></div></div></div></div></div>"
      ],
      "text/plain": [
       "GridSearchCV(cv=5,\n",
       "             estimator=XGBRegressor(base_score=None, booster=None,\n",
       "                                    callbacks=None, colsample_bylevel=None,\n",
       "                                    colsample_bynode=None,\n",
       "                                    colsample_bytree=None,\n",
       "                                    early_stopping_rounds=None,\n",
       "                                    enable_categorical=False,\n",
       "                                    eval_metric='rmse', feature_types=None,\n",
       "                                    gamma=None, gpu_id=None, grow_policy=None,\n",
       "                                    importance_type=None,\n",
       "                                    interaction_constraints=None,\n",
       "                                    learning_rate=None...\n",
       "                                    max_cat_to_onehot=None, max_delta_step=None,\n",
       "                                    max_depth=None, max_leaves=None,\n",
       "                                    min_child_weight=None, missing=nan,\n",
       "                                    monotone_constraints=None, n_estimators=100,\n",
       "                                    n_jobs=None, num_parallel_tree=None,\n",
       "                                    predictor=None, random_state=None, ...),\n",
       "             param_grid={'learning_rate': [0.1, 0.01, 0.001],\n",
       "                         'max_depth': [3, 5, 7],\n",
       "                         'n_estimators': [100, 200, 300]},\n",
       "             scoring='neg_mean_squared_error')"
      ]
     },
     "execution_count": 15,
     "metadata": {},
     "output_type": "execute_result"
    }
   ],
   "source": [
    "grid_search.fit(X_encoded, y)"
   ]
  },
  {
   "cell_type": "code",
   "execution_count": 16,
   "id": "8c492fc2",
   "metadata": {
    "execution": {
     "iopub.execute_input": "2023-07-29T14:19:25.711894Z",
     "iopub.status.busy": "2023-07-29T14:19:25.711477Z",
     "iopub.status.idle": "2023-07-29T14:19:25.717748Z",
     "shell.execute_reply": "2023-07-29T14:19:25.716887Z"
    },
    "papermill": {
     "duration": 0.018332,
     "end_time": "2023-07-29T14:19:25.720983",
     "exception": false,
     "start_time": "2023-07-29T14:19:25.702651",
     "status": "completed"
    },
    "tags": []
   },
   "outputs": [
    {
     "name": "stdout",
     "output_type": "stream",
     "text": [
      "0.1\n",
      "XGBRegressor(base_score=None, booster=None, callbacks=None,\n",
      "             colsample_bylevel=None, colsample_bynode=None,\n",
      "             colsample_bytree=None, early_stopping_rounds=None,\n",
      "             enable_categorical=False, eval_metric='rmse', feature_types=None,\n",
      "             gamma=None, gpu_id=None, grow_policy=None, importance_type=None,\n",
      "             interaction_constraints=None, learning_rate=0.1, max_bin=None,\n",
      "             max_cat_threshold=None, max_cat_to_onehot=None,\n",
      "             max_delta_step=None, max_depth=3, max_leaves=None,\n",
      "             min_child_weight=None, missing=nan, monotone_constraints=None,\n",
      "             n_estimators=300, n_jobs=None, num_parallel_tree=None,\n",
      "             predictor=None, random_state=None, ...)\n"
     ]
    }
   ],
   "source": [
    "best_params = grid_search.best_params_\n",
    "best_model = grid_search.best_estimator_\n",
    "print(best_params['learning_rate'])\n",
    "print(best_model)"
   ]
  },
  {
   "cell_type": "code",
   "execution_count": 17,
   "id": "31d9ba44",
   "metadata": {
    "execution": {
     "iopub.execute_input": "2023-07-29T14:19:25.739180Z",
     "iopub.status.busy": "2023-07-29T14:19:25.738327Z",
     "iopub.status.idle": "2023-07-29T14:19:25.744421Z",
     "shell.execute_reply": "2023-07-29T14:19:25.743609Z"
    },
    "papermill": {
     "duration": 0.017606,
     "end_time": "2023-07-29T14:19:25.746977",
     "exception": false,
     "start_time": "2023-07-29T14:19:25.729371",
     "status": "completed"
    },
    "tags": []
   },
   "outputs": [
    {
     "data": {
      "text/plain": [
       "\"\\ndef best_XGmodel(lr,md,n_est):\\n    XGmodel = xgb.XGBRegressor(\\n    #set params\\n    objective= 'reg:squarederror',\\n    eval_metric='rmse',\\n    learning_rate = lr,\\n    max_depth = md,\\n    n_estimators = n_est\\n    )\\n    \\n    return XGmodel\\n\""
      ]
     },
     "execution_count": 17,
     "metadata": {},
     "output_type": "execute_result"
    }
   ],
   "source": [
    "\"\"\"\n",
    "def best_XGmodel(lr,md,n_est):\n",
    "    XGmodel = xgb.XGBRegressor(\n",
    "    #set params\n",
    "    objective= 'reg:squarederror',\n",
    "    eval_metric='rmse',\n",
    "    learning_rate = lr,\n",
    "    max_depth = md,\n",
    "    n_estimators = n_est\n",
    "    )\n",
    "    \n",
    "    return XGmodel\n",
    "\"\"\"\n"
   ]
  },
  {
   "cell_type": "code",
   "execution_count": 18,
   "id": "186babcc",
   "metadata": {
    "execution": {
     "iopub.execute_input": "2023-07-29T14:19:25.765012Z",
     "iopub.status.busy": "2023-07-29T14:19:25.764389Z",
     "iopub.status.idle": "2023-07-29T14:19:25.768154Z",
     "shell.execute_reply": "2023-07-29T14:19:25.767347Z"
    },
    "papermill": {
     "duration": 0.015467,
     "end_time": "2023-07-29T14:19:25.770325",
     "exception": false,
     "start_time": "2023-07-29T14:19:25.754858",
     "status": "completed"
    },
    "tags": []
   },
   "outputs": [],
   "source": [
    "#XGmodel = best_XGmodel(best_params['learning_rate'],best_params['max_depth'],best_params['n_estimators'])"
   ]
  },
  {
   "cell_type": "code",
   "execution_count": 19,
   "id": "286a0cf0",
   "metadata": {
    "execution": {
     "iopub.execute_input": "2023-07-29T14:19:25.786128Z",
     "iopub.status.busy": "2023-07-29T14:19:25.785730Z",
     "iopub.status.idle": "2023-07-29T14:19:27.727053Z",
     "shell.execute_reply": "2023-07-29T14:19:27.726087Z"
    },
    "papermill": {
     "duration": 1.951855,
     "end_time": "2023-07-29T14:19:27.729368",
     "exception": false,
     "start_time": "2023-07-29T14:19:25.777513",
     "status": "completed"
    },
    "tags": []
   },
   "outputs": [
    {
     "data": {
      "text/html": [
       "<style>#sk-container-id-2 {color: black;background-color: white;}#sk-container-id-2 pre{padding: 0;}#sk-container-id-2 div.sk-toggleable {background-color: white;}#sk-container-id-2 label.sk-toggleable__label {cursor: pointer;display: block;width: 100%;margin-bottom: 0;padding: 0.3em;box-sizing: border-box;text-align: center;}#sk-container-id-2 label.sk-toggleable__label-arrow:before {content: \"▸\";float: left;margin-right: 0.25em;color: #696969;}#sk-container-id-2 label.sk-toggleable__label-arrow:hover:before {color: black;}#sk-container-id-2 div.sk-estimator:hover label.sk-toggleable__label-arrow:before {color: black;}#sk-container-id-2 div.sk-toggleable__content {max-height: 0;max-width: 0;overflow: hidden;text-align: left;background-color: #f0f8ff;}#sk-container-id-2 div.sk-toggleable__content pre {margin: 0.2em;color: black;border-radius: 0.25em;background-color: #f0f8ff;}#sk-container-id-2 input.sk-toggleable__control:checked~div.sk-toggleable__content {max-height: 200px;max-width: 100%;overflow: auto;}#sk-container-id-2 input.sk-toggleable__control:checked~label.sk-toggleable__label-arrow:before {content: \"▾\";}#sk-container-id-2 div.sk-estimator input.sk-toggleable__control:checked~label.sk-toggleable__label {background-color: #d4ebff;}#sk-container-id-2 div.sk-label input.sk-toggleable__control:checked~label.sk-toggleable__label {background-color: #d4ebff;}#sk-container-id-2 input.sk-hidden--visually {border: 0;clip: rect(1px 1px 1px 1px);clip: rect(1px, 1px, 1px, 1px);height: 1px;margin: -1px;overflow: hidden;padding: 0;position: absolute;width: 1px;}#sk-container-id-2 div.sk-estimator {font-family: monospace;background-color: #f0f8ff;border: 1px dotted black;border-radius: 0.25em;box-sizing: border-box;margin-bottom: 0.5em;}#sk-container-id-2 div.sk-estimator:hover {background-color: #d4ebff;}#sk-container-id-2 div.sk-parallel-item::after {content: \"\";width: 100%;border-bottom: 1px solid gray;flex-grow: 1;}#sk-container-id-2 div.sk-label:hover label.sk-toggleable__label {background-color: #d4ebff;}#sk-container-id-2 div.sk-serial::before {content: \"\";position: absolute;border-left: 1px solid gray;box-sizing: border-box;top: 0;bottom: 0;left: 50%;z-index: 0;}#sk-container-id-2 div.sk-serial {display: flex;flex-direction: column;align-items: center;background-color: white;padding-right: 0.2em;padding-left: 0.2em;position: relative;}#sk-container-id-2 div.sk-item {position: relative;z-index: 1;}#sk-container-id-2 div.sk-parallel {display: flex;align-items: stretch;justify-content: center;background-color: white;position: relative;}#sk-container-id-2 div.sk-item::before, #sk-container-id-2 div.sk-parallel-item::before {content: \"\";position: absolute;border-left: 1px solid gray;box-sizing: border-box;top: 0;bottom: 0;left: 50%;z-index: -1;}#sk-container-id-2 div.sk-parallel-item {display: flex;flex-direction: column;z-index: 1;position: relative;background-color: white;}#sk-container-id-2 div.sk-parallel-item:first-child::after {align-self: flex-end;width: 50%;}#sk-container-id-2 div.sk-parallel-item:last-child::after {align-self: flex-start;width: 50%;}#sk-container-id-2 div.sk-parallel-item:only-child::after {width: 0;}#sk-container-id-2 div.sk-dashed-wrapped {border: 1px dashed gray;margin: 0 0.4em 0.5em 0.4em;box-sizing: border-box;padding-bottom: 0.4em;background-color: white;}#sk-container-id-2 div.sk-label label {font-family: monospace;font-weight: bold;display: inline-block;line-height: 1.2em;}#sk-container-id-2 div.sk-label-container {text-align: center;}#sk-container-id-2 div.sk-container {/* jupyter's `normalize.less` sets `[hidden] { display: none; }` but bootstrap.min.css set `[hidden] { display: none !important; }` so we also need the `!important` here to be able to override the default hidden behavior on the sphinx rendered scikit-learn.org. See: https://github.com/scikit-learn/scikit-learn/issues/21755 */display: inline-block !important;position: relative;}#sk-container-id-2 div.sk-text-repr-fallback {display: none;}</style><div id=\"sk-container-id-2\" class=\"sk-top-container\"><div class=\"sk-text-repr-fallback\"><pre>XGBRegressor(base_score=None, booster=None, callbacks=None,\n",
       "             colsample_bylevel=None, colsample_bynode=None,\n",
       "             colsample_bytree=None, early_stopping_rounds=None,\n",
       "             enable_categorical=False, eval_metric=&#x27;rmse&#x27;, feature_types=None,\n",
       "             gamma=None, gpu_id=None, grow_policy=None, importance_type=None,\n",
       "             interaction_constraints=None, learning_rate=0.1, max_bin=None,\n",
       "             max_cat_threshold=None, max_cat_to_onehot=None,\n",
       "             max_delta_step=None, max_depth=3, max_leaves=None,\n",
       "             min_child_weight=None, missing=nan, monotone_constraints=None,\n",
       "             n_estimators=300, n_jobs=None, num_parallel_tree=None,\n",
       "             predictor=None, random_state=None, ...)</pre><b>In a Jupyter environment, please rerun this cell to show the HTML representation or trust the notebook. <br />On GitHub, the HTML representation is unable to render, please try loading this page with nbviewer.org.</b></div><div class=\"sk-container\" hidden><div class=\"sk-item\"><div class=\"sk-estimator sk-toggleable\"><input class=\"sk-toggleable__control sk-hidden--visually\" id=\"sk-estimator-id-4\" type=\"checkbox\" checked><label for=\"sk-estimator-id-4\" class=\"sk-toggleable__label sk-toggleable__label-arrow\">XGBRegressor</label><div class=\"sk-toggleable__content\"><pre>XGBRegressor(base_score=None, booster=None, callbacks=None,\n",
       "             colsample_bylevel=None, colsample_bynode=None,\n",
       "             colsample_bytree=None, early_stopping_rounds=None,\n",
       "             enable_categorical=False, eval_metric=&#x27;rmse&#x27;, feature_types=None,\n",
       "             gamma=None, gpu_id=None, grow_policy=None, importance_type=None,\n",
       "             interaction_constraints=None, learning_rate=0.1, max_bin=None,\n",
       "             max_cat_threshold=None, max_cat_to_onehot=None,\n",
       "             max_delta_step=None, max_depth=3, max_leaves=None,\n",
       "             min_child_weight=None, missing=nan, monotone_constraints=None,\n",
       "             n_estimators=300, n_jobs=None, num_parallel_tree=None,\n",
       "             predictor=None, random_state=None, ...)</pre></div></div></div></div></div>"
      ],
      "text/plain": [
       "XGBRegressor(base_score=None, booster=None, callbacks=None,\n",
       "             colsample_bylevel=None, colsample_bynode=None,\n",
       "             colsample_bytree=None, early_stopping_rounds=None,\n",
       "             enable_categorical=False, eval_metric='rmse', feature_types=None,\n",
       "             gamma=None, gpu_id=None, grow_policy=None, importance_type=None,\n",
       "             interaction_constraints=None, learning_rate=0.1, max_bin=None,\n",
       "             max_cat_threshold=None, max_cat_to_onehot=None,\n",
       "             max_delta_step=None, max_depth=3, max_leaves=None,\n",
       "             min_child_weight=None, missing=nan, monotone_constraints=None,\n",
       "             n_estimators=300, n_jobs=None, num_parallel_tree=None,\n",
       "             predictor=None, random_state=None, ...)"
      ]
     },
     "execution_count": 19,
     "metadata": {},
     "output_type": "execute_result"
    }
   ],
   "source": [
    "best_model.fit(X_encoded,y)"
   ]
  },
  {
   "cell_type": "code",
   "execution_count": 20,
   "id": "2d10f8bb",
   "metadata": {
    "execution": {
     "iopub.execute_input": "2023-07-29T14:19:27.746415Z",
     "iopub.status.busy": "2023-07-29T14:19:27.745159Z",
     "iopub.status.idle": "2023-07-29T14:19:27.750987Z",
     "shell.execute_reply": "2023-07-29T14:19:27.749982Z"
    },
    "papermill": {
     "duration": 0.017562,
     "end_time": "2023-07-29T14:19:27.754299",
     "exception": false,
     "start_time": "2023-07-29T14:19:27.736737",
     "status": "completed"
    },
    "tags": []
   },
   "outputs": [
    {
     "name": "stdout",
     "output_type": "stream",
     "text": [
      "(1460, 289)\n",
      "(1459, 289)\n"
     ]
    }
   ],
   "source": [
    "print(X_encoded.shape)\n",
    "print(X_test_encoded.shape)\n"
   ]
  },
  {
   "cell_type": "code",
   "execution_count": 21,
   "id": "98a108ad",
   "metadata": {
    "execution": {
     "iopub.execute_input": "2023-07-29T14:19:27.771566Z",
     "iopub.status.busy": "2023-07-29T14:19:27.771160Z",
     "iopub.status.idle": "2023-07-29T14:19:27.798361Z",
     "shell.execute_reply": "2023-07-29T14:19:27.796914Z"
    },
    "papermill": {
     "duration": 0.039659,
     "end_time": "2023-07-29T14:19:27.801894",
     "exception": false,
     "start_time": "2023-07-29T14:19:27.762235",
     "status": "completed"
    },
    "tags": []
   },
   "outputs": [],
   "source": [
    "y_pred = best_model.predict(X_test_encoded)\n"
   ]
  },
  {
   "cell_type": "code",
   "execution_count": 22,
   "id": "d4dbcea5",
   "metadata": {
    "execution": {
     "iopub.execute_input": "2023-07-29T14:19:27.819092Z",
     "iopub.status.busy": "2023-07-29T14:19:27.818674Z",
     "iopub.status.idle": "2023-07-29T14:19:27.836319Z",
     "shell.execute_reply": "2023-07-29T14:19:27.834393Z"
    },
    "papermill": {
     "duration": 0.029106,
     "end_time": "2023-07-29T14:19:27.838958",
     "exception": false,
     "start_time": "2023-07-29T14:19:27.809852",
     "status": "completed"
    },
    "tags": []
   },
   "outputs": [
    {
     "name": "stdout",
     "output_type": "stream",
     "text": [
      "        Id      SalePrice\n",
      "0     1461  121183.960938\n",
      "1     1462  167260.765625\n",
      "2     1463  177497.687500\n",
      "3     1464  187186.671875\n",
      "4     1465  178922.046875\n",
      "...    ...            ...\n",
      "1454  2915   77636.687500\n",
      "1455  2916   76368.523438\n",
      "1456  2917  143625.562500\n",
      "1457  2918  119905.570312\n",
      "1458  2919  227363.031250\n",
      "\n",
      "[1459 rows x 2 columns]\n"
     ]
    }
   ],
   "source": [
    "submission = pd.DataFrame(({\n",
    "    'Id' : test_df['Id'],\n",
    "    'SalePrice' : y_pred\n",
    "    }))\n",
    "\n",
    "print(submission)\n",
    "\n",
    "\n",
    "filename= 'house prices predictions.csv'\n",
    "submission.to_csv(filename, index=False)\n"
   ]
  }
 ],
 "metadata": {
  "kernelspec": {
   "display_name": "Python 3",
   "language": "python",
   "name": "python3"
  },
  "language_info": {
   "codemirror_mode": {
    "name": "ipython",
    "version": 3
   },
   "file_extension": ".py",
   "mimetype": "text/x-python",
   "name": "python",
   "nbconvert_exporter": "python",
   "pygments_lexer": "ipython3",
   "version": "3.10.12"
  },
  "papermill": {
   "default_parameters": {},
   "duration": 274.920979,
   "end_time": "2023-07-29T14:19:30.459370",
   "environment_variables": {},
   "exception": null,
   "input_path": "__notebook__.ipynb",
   "output_path": "__notebook__.ipynb",
   "parameters": {},
   "start_time": "2023-07-29T14:14:55.538391",
   "version": "2.4.0"
  }
 },
 "nbformat": 4,
 "nbformat_minor": 5
}
